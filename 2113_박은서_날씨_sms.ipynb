{
  "nbformat": 4,
  "nbformat_minor": 0,
  "metadata": {
    "colab": {
      "provenance": [],
      "collapsed_sections": [],
      "mount_file_id": "1XR8XH9TLP5oGiZs2-rV7Vnk0jDz5oA28",
      "authorship_tag": "ABX9TyMc5WSgrI/tUf+2NQmDP43a"
    },
    "kernelspec": {
      "name": "python3",
      "display_name": "Python 3"
    },
    "language_info": {
      "name": "python"
    }
  },
  "cells": [
    {
      "cell_type": "code",
      "source": [
        "pip install pushbullet.py"
      ],
      "metadata": {
        "colab": {
          "base_uri": "https://localhost:8080/"
        },
        "id": "rtz0qb9anr12",
        "outputId": "f0d115e4-05f8-4b5b-a53b-e615857e4795"
      },
      "execution_count": 2,
      "outputs": [
        {
          "output_type": "stream",
          "name": "stdout",
          "text": [
            "Looking in indexes: https://pypi.org/simple, https://us-python.pkg.dev/colab-wheels/public/simple/\n",
            "Collecting pushbullet.py\n",
            "  Downloading pushbullet.py-0.12.0-py2.py3-none-any.whl (10 kB)\n",
            "Requirement already satisfied: requests>=1.0.0 in /usr/local/lib/python3.7/dist-packages (from pushbullet.py) (2.23.0)\n",
            "Collecting websocket-client>=0.53.0\n",
            "  Downloading websocket_client-1.4.1-py3-none-any.whl (55 kB)\n",
            "\u001b[K     |████████████████████████████████| 55 kB 2.2 MB/s \n",
            "\u001b[?25hCollecting python-magic\n",
            "  Downloading python_magic-0.4.27-py2.py3-none-any.whl (13 kB)\n",
            "Requirement already satisfied: idna<3,>=2.5 in /usr/local/lib/python3.7/dist-packages (from requests>=1.0.0->pushbullet.py) (2.10)\n",
            "Requirement already satisfied: certifi>=2017.4.17 in /usr/local/lib/python3.7/dist-packages (from requests>=1.0.0->pushbullet.py) (2022.6.15)\n",
            "Requirement already satisfied: chardet<4,>=3.0.2 in /usr/local/lib/python3.7/dist-packages (from requests>=1.0.0->pushbullet.py) (3.0.4)\n",
            "Requirement already satisfied: urllib3!=1.25.0,!=1.25.1,<1.26,>=1.21.1 in /usr/local/lib/python3.7/dist-packages (from requests>=1.0.0->pushbullet.py) (1.24.3)\n",
            "Installing collected packages: websocket-client, python-magic, pushbullet.py\n",
            "Successfully installed pushbullet.py-0.12.0 python-magic-0.4.27 websocket-client-1.4.1\n"
          ]
        }
      ]
    },
    {
      "cell_type": "code",
      "source": [
        "pip install requests"
      ],
      "metadata": {
        "colab": {
          "base_uri": "https://localhost:8080/"
        },
        "id": "Ec8-FYOLgmcO",
        "outputId": "e0f7ffbc-86de-450f-e408-257ee50d5869"
      },
      "execution_count": 3,
      "outputs": [
        {
          "output_type": "stream",
          "name": "stdout",
          "text": [
            "Looking in indexes: https://pypi.org/simple, https://us-python.pkg.dev/colab-wheels/public/simple/\n",
            "Requirement already satisfied: requests in /usr/local/lib/python3.7/dist-packages (2.23.0)\n",
            "Requirement already satisfied: chardet<4,>=3.0.2 in /usr/local/lib/python3.7/dist-packages (from requests) (3.0.4)\n",
            "Requirement already satisfied: certifi>=2017.4.17 in /usr/local/lib/python3.7/dist-packages (from requests) (2022.6.15)\n",
            "Requirement already satisfied: idna<3,>=2.5 in /usr/local/lib/python3.7/dist-packages (from requests) (2.10)\n",
            "Requirement already satisfied: urllib3!=1.25.0,!=1.25.1,<1.26,>=1.21.1 in /usr/local/lib/python3.7/dist-packages (from requests) (1.24.3)\n"
          ]
        }
      ]
    },
    {
      "cell_type": "code",
      "execution_count": 4,
      "metadata": {
        "id": "Xjqn5MuFnRHD"
      },
      "outputs": [],
      "source": [
        "import time\n",
        "from pushbullet import Pushbullet\n",
        "import requests\n",
        "import json\n",
        "import pandas as pd\n",
        "import datetime\n",
        "import pprint\n",
        "from pytz import timezone\n",
        "from datetime import datetime"
      ]
    },
    {
      "cell_type": "code",
      "source": [
        "data_path = '/content/drive/MyDrive/Colab Notebooks/20EB 박은서 2022 2학기 프로그래밍 수행평가_날씨 SMS/keyData.json'\n",
        "with open(data_path, 'r') as file:\n",
        "  key_data = json.load(file)\n",
        "  print(type(key_data))\n",
        "\n",
        "w_key = key_data['key'][0]['weather']\n",
        "access_token = key_data['key'][0]['sms']"
      ],
      "metadata": {
        "colab": {
          "base_uri": "https://localhost:8080/"
        },
        "id": "d3UBd8JyHq6i",
        "outputId": "194439b2-f20f-41ec-b4c4-bd1a29a0912b"
      },
      "execution_count": 5,
      "outputs": [
        {
          "output_type": "stream",
          "name": "stdout",
          "text": [
            "<class 'dict'>\n"
          ]
        }
      ]
    },
    {
      "cell_type": "code",
      "source": [
        "from pandas.io.common import urljoin\n",
        "from urllib.parse import urlencode, unquote\n",
        "#날씨 정보\n",
        "now = datetime.now(timezone('Asia/Seoul'))\n",
        "day = repr(now.day)\n",
        "mon = repr(now.month)\n",
        "year = repr(now.year)\n",
        "if(now.month<10):mon = '0'+repr(now.month)\n",
        "if(now.day<10):day = '0'+repr(now.day)\n",
        "b_d = year + mon + day\n",
        "print(b_d)\n",
        "\n",
        "print(year,'년', mon,'월', day, '일', now.hour,'시', now.minute,'분', now.second,'초\\n안산시 단원구 와동(57, 122)의 날씨 정보:')\n",
        "\n",
        "\n",
        "if now.hour<2 or (now.hour==2 and now.minute<=10):\n",
        "    base_time=\"0100\"\n",
        "elif now.hour<5 or (now.hour==5 and now.minute<=10): \n",
        "    base_time=\"0200\"\n",
        "elif now.hour<8 or (now.hour==8 and now.minute<=10): \n",
        "    base_time=\"0500\"\n",
        "elif now.hour<=11 or now.minute<=10:\n",
        "    base_time=\"0800\"\n",
        "elif now.hour<14 or (now.hour==14 and now.minute<=10): \n",
        "    base_time=\"1100\"\n",
        "elif now.hour<17 or (now.hour==17 and now.minute<=10): \n",
        "    base_time=\"1400\"\n",
        "elif now.hour<20 or (now.hour==20 and now.minute<=10): \n",
        "    base_time=\"1700\" \n",
        "elif now.hour<23 or (now.hour==23 and now.minute<=10): \n",
        "    base_time=\"2000\"\n",
        "else: \n",
        "    base_time=\"2300\"\n",
        "\n",
        "print(type(base_time))\n",
        "url = 'http://apis.data.go.kr/1360000/VilageFcstInfoService_2.0/getUltraSrtNcst'\n",
        "queryParams = {\"ServiceKey\" : w_key,\n",
        "                \"base_date\" : b_d, \n",
        "                \"base_time\" : base_time,\n",
        "                \"nx\" : 57,\n",
        "                \"ny\" : 122,\n",
        "                \"numOfRows\" : \"60\",\n",
        "                \"pageNo\" : \"1\",\n",
        "                \"dataType\" : \"JSON\"\n",
        "        }\n",
        "\n",
        "res = requests.get(url, params = queryParams)\n",
        "print(res.content)\n",
        "items = res.json().get('response').get('body').get('items')\n",
        "\n",
        "contents = res.text\n",
        "pp = pprint.PrettyPrinter(indent=4)\n",
        "print(pp.pprint(contents))\n",
        "\n",
        "data = dict()\n",
        "data['date'] = b_d\n",
        "\n",
        "json_ob = json.loads(contents)\n",
        "print(json_ob)\n",
        "print(type(json_ob))\n",
        "body = json_ob['response']['body']['items']\n",
        "print(body)\n",
        "\n",
        "weather_data = dict()\n",
        "for item in items['item']:\n",
        "  if item['category'] == 'T3H':\n",
        "    weather_data['tmp'] = item['obsrValue']\n",
        "\n",
        "  if item['category'] == 'PTY':\n",
        "        weather_code = item['obsrValue']\n",
        "        \n",
        "        if weather_code == '1':\n",
        "            weather_state = '현재 비가 오고 있습니다. 우산을 챙기세요.'\n",
        "        elif weather_code == '2':\n",
        "            weather_state = '현재 비/눈이 오고 있습니다. 우산을 챙기세요.'\n",
        "        elif weather_code == '3':\n",
        "            weather_state = '현재 눈이 오고 있습니다. 우산을 챙기고 옷을 따뜻하게 입으세요.'\n",
        "        elif weather_code == '4':\n",
        "            weather_state = '현재 소나기가 오고 있습니다. 우산을 챙기세요.'\n",
        "        elif weather_code == '0':\n",
        "            weather_state = '현재 비/눈/소나기가 오고 있지 않습니다.'\n",
        "        else:\n",
        "          weather_state = '현재 비 혹은 눈이 소량 오고있습니다.'\n",
        "        \n",
        "        weather_data['code'] = weather_code\n",
        "        weather_data['state'] = weather_state\n",
        "\n",
        "\n",
        "\n"
      ],
      "metadata": {
        "colab": {
          "base_uri": "https://localhost:8080/"
        },
        "id": "kxZEYwcHqEG7",
        "outputId": "5c918b19-6b95-4a87-f303-30bab77e1708"
      },
      "execution_count": 6,
      "outputs": [
        {
          "output_type": "stream",
          "name": "stdout",
          "text": [
            "20221006\n",
            "2022 년 10 월 06 일 17 시 49 분 32 초\n",
            "안산시 단원구 와동(57, 122)의 날씨 정보:\n",
            "<class 'str'>\n",
            "b'{\"response\":{\"header\":{\"resultCode\":\"00\",\"resultMsg\":\"NORMAL_SERVICE\"},\"body\":{\"dataType\":\"JSON\",\"items\":{\"item\":[{\"baseDate\":\"20221006\",\"baseTime\":\"1700\",\"category\":\"PTY\",\"nx\":57,\"ny\":122,\"obsrValue\":\"0\"},{\"baseDate\":\"20221006\",\"baseTime\":\"1700\",\"category\":\"REH\",\"nx\":57,\"ny\":122,\"obsrValue\":\"75\"},{\"baseDate\":\"20221006\",\"baseTime\":\"1700\",\"category\":\"RN1\",\"nx\":57,\"ny\":122,\"obsrValue\":\"0\"},{\"baseDate\":\"20221006\",\"baseTime\":\"1700\",\"category\":\"T1H\",\"nx\":57,\"ny\":122,\"obsrValue\":\"16.9\"},{\"baseDate\":\"20221006\",\"baseTime\":\"1700\",\"category\":\"UUU\",\"nx\":57,\"ny\":122,\"obsrValue\":\"0.6\"},{\"baseDate\":\"20221006\",\"baseTime\":\"1700\",\"category\":\"VEC\",\"nx\":57,\"ny\":122,\"obsrValue\":\"297\"},{\"baseDate\":\"20221006\",\"baseTime\":\"1700\",\"category\":\"VVV\",\"nx\":57,\"ny\":122,\"obsrValue\":\"-0.2\"},{\"baseDate\":\"20221006\",\"baseTime\":\"1700\",\"category\":\"WSD\",\"nx\":57,\"ny\":122,\"obsrValue\":\"0.7\"}]},\"pageNo\":1,\"numOfRows\":60,\"totalCount\":8}}}'\n",
            "'{\"response\":{\"header\":{\"resultCode\":\"00\",\"resultMsg\":\"NORMAL_SERVICE\"},\"body\":{\"dataType\":\"JSON\",\"items\":{\"item\":[{\"baseDate\":\"20221006\",\"baseTime\":\"1700\",\"category\":\"PTY\",\"nx\":57,\"ny\":122,\"obsrValue\":\"0\"},{\"baseDate\":\"20221006\",\"baseTime\":\"1700\",\"category\":\"REH\",\"nx\":57,\"ny\":122,\"obsrValue\":\"75\"},{\"baseDate\":\"20221006\",\"baseTime\":\"1700\",\"category\":\"RN1\",\"nx\":57,\"ny\":122,\"obsrValue\":\"0\"},{\"baseDate\":\"20221006\",\"baseTime\":\"1700\",\"category\":\"T1H\",\"nx\":57,\"ny\":122,\"obsrValue\":\"16.9\"},{\"baseDate\":\"20221006\",\"baseTime\":\"1700\",\"category\":\"UUU\",\"nx\":57,\"ny\":122,\"obsrValue\":\"0.6\"},{\"baseDate\":\"20221006\",\"baseTime\":\"1700\",\"category\":\"VEC\",\"nx\":57,\"ny\":122,\"obsrValue\":\"297\"},{\"baseDate\":\"20221006\",\"baseTime\":\"1700\",\"category\":\"VVV\",\"nx\":57,\"ny\":122,\"obsrValue\":\"-0.2\"},{\"baseDate\":\"20221006\",\"baseTime\":\"1700\",\"category\":\"WSD\",\"nx\":57,\"ny\":122,\"obsrValue\":\"0.7\"}]},\"pageNo\":1,\"numOfRows\":60,\"totalCount\":8}}}'\n",
            "None\n",
            "{'response': {'header': {'resultCode': '00', 'resultMsg': 'NORMAL_SERVICE'}, 'body': {'dataType': 'JSON', 'items': {'item': [{'baseDate': '20221006', 'baseTime': '1700', 'category': 'PTY', 'nx': 57, 'ny': 122, 'obsrValue': '0'}, {'baseDate': '20221006', 'baseTime': '1700', 'category': 'REH', 'nx': 57, 'ny': 122, 'obsrValue': '75'}, {'baseDate': '20221006', 'baseTime': '1700', 'category': 'RN1', 'nx': 57, 'ny': 122, 'obsrValue': '0'}, {'baseDate': '20221006', 'baseTime': '1700', 'category': 'T1H', 'nx': 57, 'ny': 122, 'obsrValue': '16.9'}, {'baseDate': '20221006', 'baseTime': '1700', 'category': 'UUU', 'nx': 57, 'ny': 122, 'obsrValue': '0.6'}, {'baseDate': '20221006', 'baseTime': '1700', 'category': 'VEC', 'nx': 57, 'ny': 122, 'obsrValue': '297'}, {'baseDate': '20221006', 'baseTime': '1700', 'category': 'VVV', 'nx': 57, 'ny': 122, 'obsrValue': '-0.2'}, {'baseDate': '20221006', 'baseTime': '1700', 'category': 'WSD', 'nx': 57, 'ny': 122, 'obsrValue': '0.7'}]}, 'pageNo': 1, 'numOfRows': 60, 'totalCount': 8}}}\n",
            "<class 'dict'>\n",
            "{'item': [{'baseDate': '20221006', 'baseTime': '1700', 'category': 'PTY', 'nx': 57, 'ny': 122, 'obsrValue': '0'}, {'baseDate': '20221006', 'baseTime': '1700', 'category': 'REH', 'nx': 57, 'ny': 122, 'obsrValue': '75'}, {'baseDate': '20221006', 'baseTime': '1700', 'category': 'RN1', 'nx': 57, 'ny': 122, 'obsrValue': '0'}, {'baseDate': '20221006', 'baseTime': '1700', 'category': 'T1H', 'nx': 57, 'ny': 122, 'obsrValue': '16.9'}, {'baseDate': '20221006', 'baseTime': '1700', 'category': 'UUU', 'nx': 57, 'ny': 122, 'obsrValue': '0.6'}, {'baseDate': '20221006', 'baseTime': '1700', 'category': 'VEC', 'nx': 57, 'ny': 122, 'obsrValue': '297'}, {'baseDate': '20221006', 'baseTime': '1700', 'category': 'VVV', 'nx': 57, 'ny': 122, 'obsrValue': '-0.2'}, {'baseDate': '20221006', 'baseTime': '1700', 'category': 'WSD', 'nx': 57, 'ny': 122, 'obsrValue': '0.7'}]}\n"
          ]
        }
      ]
    },
    {
      "cell_type": "code",
      "source": [
        "data['weather'] = weather_data\n",
        "\n",
        "print(f'[{now}]', '\\n안산시 단원구 와동(57, 122)의 날씨 데이터입니다.')\n",
        "print(f\"기온은 {body['item'][3]['obsrValue']}도 입니다.\")\n",
        "print(weather_state)"
      ],
      "metadata": {
        "colab": {
          "base_uri": "https://localhost:8080/"
        },
        "id": "m_SOsXB78muj",
        "outputId": "22ae9068-1b29-4adf-cc1c-9e8ff7d5d9ed"
      },
      "execution_count": 7,
      "outputs": [
        {
          "output_type": "stream",
          "name": "stdout",
          "text": [
            "[2022-10-06 17:49:32.096154+09:00] \n",
            "안산시 단원구 와동(57, 122)의 날씨 데이터입니다.\n",
            "기온은 16.9도 입니다.\n",
            "현재 비/눈/소나기가 오고 있지 않습니다.\n"
          ]
        }
      ]
    },
    {
      "cell_type": "code",
      "source": [
        "weather_m = str(now) + '\\n안산시 단원구 와동(57, 122)의 날씨 데이터입니다.\\n기온은 ' + str(body['item'][3]['obsrValue']) + '도 입니다.\\n' + weather_state"
      ],
      "metadata": {
        "id": "0mjkoJpHdfCU"
      },
      "execution_count": 8,
      "outputs": []
    },
    {
      "cell_type": "code",
      "source": [
        "def send(a):\n",
        "  pb = Pushbullet(access_token)\n",
        "  device = pb.devices[1]\n",
        "\n",
        "  push = pb.push_sms(device, a, weather_m)"
      ],
      "metadata": {
        "id": "zEoK-iWZpAG5"
      },
      "execution_count": 9,
      "outputs": []
    },
    {
      "cell_type": "code",
      "source": [
        "phoneNum=input('날씨 정보를 수신할 전화번호를 입력해주세요\\n+8210과 함께  하이픈 없이 입력해주세요. \\nex) 010-1234-5678 입력: +821012345678 >>')\n",
        "send(phoneNum)"
      ],
      "metadata": {
        "id": "OI0-Zxk8hSUc"
      },
      "execution_count": null,
      "outputs": []
    }
  ]
}